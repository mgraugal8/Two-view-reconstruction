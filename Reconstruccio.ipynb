{
 "cells": [
  {
   "cell_type": "code",
   "execution_count": 1,
   "metadata": {
    "collapsed": false
   },
   "outputs": [],
   "source": [
    "from main import rec\n",
    "#Image name on the folder\n",
    "\n",
    "im1 = 'mostra_1.png'\n",
    "im2 = 'mostra_2.png'"
   ]
  },
  {
   "cell_type": "code",
   "execution_count": 2,
   "metadata": {
    "collapsed": false
   },
   "outputs": [],
   "source": [
    "import numpy as np\n",
    "# Calibration matrices extracted from http://vision.middlebury.edu/stereo/data/2014/\n",
    "r_1 = np.array([2945.377, 0, 1284.862])\n",
    "r_2 = np.array([0, 2945.377, 954.52])\n",
    "r_3 = np.array([0, 0, 1])\n",
    "K_1 = np.array(np.matrix([r_1,r_2,r_3]))\n",
    "\n",
    "\n",
    "r_1 = np.array([2945.377, 0, 1455.543])\n",
    "r_2 = np.array([0, 2945.377, 954.52])\n",
    "r_3 = np.array([0, 0, 1])\n",
    "\n",
    "K_2 = np.array(np.matrix([r_1,r_2,r_3]))\n",
    "\n",
    "rec(im1, im2, K_1,K_2)"
   ]
  },
  {
   "cell_type": "code",
   "execution_count": null,
   "metadata": {
    "collapsed": true
   },
   "outputs": [],
   "source": []
  }
 ],
 "metadata": {
  "kernelspec": {
   "display_name": "Python 2",
   "language": "python",
   "name": "python2"
  },
  "language_info": {
   "codemirror_mode": {
    "name": "ipython",
    "version": 2
   },
   "file_extension": ".py",
   "mimetype": "text/x-python",
   "name": "python",
   "nbconvert_exporter": "python",
   "pygments_lexer": "ipython2",
   "version": "2.7.10"
  }
 },
 "nbformat": 4,
 "nbformat_minor": 0
}
